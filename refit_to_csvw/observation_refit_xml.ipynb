{
 "cells": [
  {
   "cell_type": "markdown",
   "id": "c6ac8ecd",
   "metadata": {},
   "source": [
    "# observations_refit_csv"
   ]
  },
  {
   "cell_type": "markdown",
   "id": "0a61eb01",
   "metadata": {},
   "source": [
    "## setup"
   ]
  },
  {
   "cell_type": "code",
   "execution_count": 56,
   "id": "f7ede50b",
   "metadata": {},
   "outputs": [],
   "source": [
    "from lxml import etree\n",
    "import os\n",
    "import pandas as pd\n",
    "import csvw_functions\n",
    "import json\n",
    "from rdflib import Graph, SOSA, URIRef\n",
    "import csv"
   ]
  },
  {
   "cell_type": "markdown",
   "id": "799e7038",
   "metadata": {},
   "source": [
    "## Read in the data"
   ]
  },
  {
   "cell_type": "code",
   "execution_count": 57,
   "id": "060b1d84",
   "metadata": {},
   "outputs": [],
   "source": [
    "data_dir=r'C:\\Users\\cvskf\\OneDrive - Loughborough University\\_Data\\REFIT_Smart_Home_dataset_PUBLIC_v1\\Data'"
   ]
  },
  {
   "cell_type": "code",
   "execution_count": 58,
   "id": "9c0928b7",
   "metadata": {},
   "outputs": [
    {
     "data": {
      "text/plain": [
       "<lxml.etree._ElementTree at 0x1b66017d3c0>"
      ]
     },
     "execution_count": 58,
     "metadata": {},
     "output_type": "execute_result"
    }
   ],
   "source": [
    "tree=etree.parse(os.path.join(data_dir,'REFIT_BUILDING_SURVEY.xml'))\n",
    "NS={'refit':'http://www.refitsmarthomes.org'}\n",
    "tree"
   ]
  },
  {
   "cell_type": "markdown",
   "id": "8e0a21ab",
   "metadata": {},
   "source": [
    "## Create csv"
   ]
  },
  {
   "cell_type": "markdown",
   "id": "28da8b9a",
   "metadata": {},
   "source": [
    "### header line"
   ]
  },
  {
   "cell_type": "code",
   "execution_count": 59,
   "id": "52210cb7",
   "metadata": {},
   "outputs": [],
   "source": [
    "with open('observation_survey_data.csv','w', newline='') as f1:\n",
    "    csvwriter=csv.writer(f1)\n",
    "    csvwriter.writerow(['id','type','madeBySensor','usedProcedure','hasFeatureOfInterest',\n",
    "                                    'observedProperty','hasSimpleResult','hasResult','value','unit','resultTime'])"
   ]
  },
  {
   "cell_type": "code",
   "execution_count": 60,
   "id": "c40e754f",
   "metadata": {},
   "outputs": [],
   "source": [
    "i=25312398"
   ]
  },
  {
   "cell_type": "markdown",
   "id": "257a4519",
   "metadata": {},
   "source": [
    "### Add buildings"
   ]
  },
  {
   "cell_type": "code",
   "execution_count": 61,
   "id": "26b09b0a",
   "metadata": {},
   "outputs": [
    {
     "data": {
      "text/plain": [
       "20"
      ]
     },
     "execution_count": 61,
     "metadata": {},
     "output_type": "execute_result"
    }
   ],
   "source": [
    "building_nodes=tree.xpath('//refit:Building', namespaces=NS)\n",
    "len(building_nodes)"
   ]
  },
  {
   "cell_type": "code",
   "execution_count": 62,
   "id": "8991fd7c",
   "metadata": {},
   "outputs": [],
   "source": [
    "with open('observation_survey_data.csv','a', newline='') as f1:\n",
    "    csvwriter=csv.writer(f1)\n",
    "    \n",
    "    for building_node in building_nodes:\n",
    "        \n",
    "        for k,v in building_node.attrib.items():\n",
    "            \n",
    "            if k in ['id','startDateTime']:\n",
    "            \n",
    "                continue\n",
    "            \n",
    "            elif k=='orientation':\n",
    "                \n",
    "                csvwriter.writerow([f'Observation{str(i)}','Observation','Researcher','SiteVisit',building_node.get('id'),\n",
    "                                    k,'','',v,'DEG',building_node.get('startDateTime')])\n",
    "                \n",
    "            elif k=='loftInsulationThickness':\n",
    "                \n",
    "                if v.endswith('mm'):\n",
    "                    \n",
    "                    csvwriter.writerow([f'Observation{str(i)}','Observation','Researcher','SiteVisit',building_node.get('id'),\n",
    "                                    k,'','',v.removesuffix('mm'),'MilliM',building_node.get('startDateTime')])\n",
    "                    \n",
    "                else:\n",
    "                    \n",
    "                    raise Exception\n",
    "                \n",
    "                \n",
    "            else:\n",
    "                \n",
    "                csvwriter.writerow([f'Observation{str(i)}','Observation','Researcher','SiteVisit',building_node.get('id'),\n",
    "                                    k,'',v.replace(' ','_'),'','',building_node.get('startDateTime')])\n",
    "                \n",
    "            i+=1\n",
    "                "
   ]
  },
  {
   "cell_type": "markdown",
   "id": "9575f763",
   "metadata": {},
   "source": [
    "### Spaces"
   ]
  },
  {
   "cell_type": "code",
   "execution_count": 63,
   "id": "6fd7172b",
   "metadata": {},
   "outputs": [
    {
     "data": {
      "text/plain": [
       "389"
      ]
     },
     "execution_count": 63,
     "metadata": {},
     "output_type": "execute_result"
    }
   ],
   "source": [
    "space_nodes=tree.xpath('//refit:Space', namespaces=NS)\n",
    "len(space_nodes)"
   ]
  },
  {
   "cell_type": "code",
   "execution_count": 64,
   "id": "7a6e72bb",
   "metadata": {},
   "outputs": [],
   "source": [
    "with open('observation_survey_data.csv','a', newline='') as f1:\n",
    "    csvwriter=csv.writer(f1)\n",
    "\n",
    "    for space_node in space_nodes:\n",
    "\n",
    "        building_node=space_node.getparent()\n",
    "        \n",
    "        csvwriter.writerow([f'Observation{str(i)}','Observation','Researcher','SiteVisit',space_node.get('id'),\n",
    "                            'hasBuilding','',building_node.get('id'),'','',space_node.get('startDateTime')])\n",
    "    \n",
    "        i+=1\n",
    "    "
   ]
  },
  {
   "cell_type": "code",
   "execution_count": 65,
   "id": "b894c2cd",
   "metadata": {},
   "outputs": [],
   "source": [
    "with open('observation_survey_data.csv','a', newline='') as f1:\n",
    "    csvwriter=csv.writer(f1)\n",
    "    \n",
    "    for space_node in space_nodes:\n",
    "        \n",
    "        for k,v in space_node.attrib.items():\n",
    "            \n",
    "            if k in ['id','startDateTime']:\n",
    "            \n",
    "                continue\n",
    "            \n",
    "            elif k=='area':\n",
    "                \n",
    "                csvwriter.writerow([f'Observation{str(i)}','Observation','Researcher','SiteVisit',space_node.get('id'),\n",
    "                                    k,'','',v,'M2',space_node.get('startDateTime')])\n",
    "                \n",
    "            elif k=='volume':\n",
    "                \n",
    "                csvwriter.writerow([f'Observation{str(i)}','Observation','Researcher','SiteVisit',space_node.get('id'),\n",
    "                                    k,'','',v,'M3',space_node.get('startDateTime')])\n",
    "                \n",
    "            elif k=='storeyLevel':\n",
    "                \n",
    "                csvwriter.writerow([f'Observation{str(i)}','Observation','Researcher','SiteVisit',space_node.get('id'),\n",
    "                                    k,'',f'Storey{v}','','',space_node.get('startDateTime')])\n",
    "                \n",
    "            else:\n",
    "                \n",
    "                csvwriter.writerow([f'Observation{str(i)}','Observation','Researcher','SiteVisit',space_node.get('id'),\n",
    "                                    k,'',v.replace(' ','_'),'','',space_node.get('startDateTime')])\n",
    "                \n",
    "            i+=1\n",
    "                "
   ]
  },
  {
   "cell_type": "code",
   "execution_count": null,
   "id": "46e15d84",
   "metadata": {},
   "outputs": [],
   "source": []
  },
  {
   "cell_type": "code",
   "execution_count": null,
   "id": "f0a2cfbf",
   "metadata": {},
   "outputs": [],
   "source": []
  },
  {
   "cell_type": "markdown",
   "id": "a7a4eb12",
   "metadata": {},
   "source": [
    "## Testing"
   ]
  },
  {
   "cell_type": "code",
   "execution_count": 66,
   "id": "5e5c23ed",
   "metadata": {},
   "outputs": [
    {
     "data": {
      "text/html": [
       "<div>\n",
       "<style scoped>\n",
       "    .dataframe tbody tr th:only-of-type {\n",
       "        vertical-align: middle;\n",
       "    }\n",
       "\n",
       "    .dataframe tbody tr th {\n",
       "        vertical-align: top;\n",
       "    }\n",
       "\n",
       "    .dataframe thead th {\n",
       "        text-align: right;\n",
       "    }\n",
       "</style>\n",
       "<table border=\"1\" class=\"dataframe\">\n",
       "  <thead>\n",
       "    <tr style=\"text-align: right;\">\n",
       "      <th></th>\n",
       "      <th>id</th>\n",
       "      <th>type</th>\n",
       "      <th>madeBySensor</th>\n",
       "      <th>usedProcedure</th>\n",
       "      <th>hasFeatureOfInterest</th>\n",
       "      <th>observedProperty</th>\n",
       "      <th>hasSimpleResult</th>\n",
       "      <th>hasResult</th>\n",
       "      <th>value</th>\n",
       "      <th>unit</th>\n",
       "      <th>resultTime</th>\n",
       "    </tr>\n",
       "  </thead>\n",
       "  <tbody>\n",
       "    <tr>\n",
       "      <th>0</th>\n",
       "      <td>Observation25312398</td>\n",
       "      <td>Observation</td>\n",
       "      <td>Researcher</td>\n",
       "      <td>SiteVisit</td>\n",
       "      <td>Building01</td>\n",
       "      <td>occupancyType</td>\n",
       "      <td>NaN</td>\n",
       "      <td>Single_family_dwelling</td>\n",
       "      <td>NaN</td>\n",
       "      <td>NaN</td>\n",
       "      <td>2013-10-01T00:00:00Z</td>\n",
       "    </tr>\n",
       "    <tr>\n",
       "      <th>1</th>\n",
       "      <td>Observation25312399</td>\n",
       "      <td>Observation</td>\n",
       "      <td>Researcher</td>\n",
       "      <td>SiteVisit</td>\n",
       "      <td>Building01</td>\n",
       "      <td>builtFormType</td>\n",
       "      <td>NaN</td>\n",
       "      <td>Detached_house_or_bungalow</td>\n",
       "      <td>NaN</td>\n",
       "      <td>NaN</td>\n",
       "      <td>2013-10-01T00:00:00Z</td>\n",
       "    </tr>\n",
       "    <tr>\n",
       "      <th>2</th>\n",
       "      <td>Observation25312400</td>\n",
       "      <td>Observation</td>\n",
       "      <td>Researcher</td>\n",
       "      <td>SiteVisit</td>\n",
       "      <td>Building01</td>\n",
       "      <td>orientation</td>\n",
       "      <td>NaN</td>\n",
       "      <td>NaN</td>\n",
       "      <td>327</td>\n",
       "      <td>DEG</td>\n",
       "      <td>2013-10-01T00:00:00Z</td>\n",
       "    </tr>\n",
       "    <tr>\n",
       "      <th>3</th>\n",
       "      <td>Observation25312401</td>\n",
       "      <td>Observation</td>\n",
       "      <td>Researcher</td>\n",
       "      <td>SiteVisit</td>\n",
       "      <td>Building01</td>\n",
       "      <td>wallTypeMainBuilding</td>\n",
       "      <td>NaN</td>\n",
       "      <td>Masonry-Boxwall-Cavity</td>\n",
       "      <td>NaN</td>\n",
       "      <td>NaN</td>\n",
       "      <td>2013-10-01T00:00:00Z</td>\n",
       "    </tr>\n",
       "    <tr>\n",
       "      <th>4</th>\n",
       "      <td>Observation25312402</td>\n",
       "      <td>Observation</td>\n",
       "      <td>Researcher</td>\n",
       "      <td>SiteVisit</td>\n",
       "      <td>Building01</td>\n",
       "      <td>wallAgeBandMainBuilding</td>\n",
       "      <td>NaN</td>\n",
       "      <td>1975_-_1980</td>\n",
       "      <td>NaN</td>\n",
       "      <td>NaN</td>\n",
       "      <td>2013-10-01T00:00:00Z</td>\n",
       "    </tr>\n",
       "    <tr>\n",
       "      <th>...</th>\n",
       "      <td>...</td>\n",
       "      <td>...</td>\n",
       "      <td>...</td>\n",
       "      <td>...</td>\n",
       "      <td>...</td>\n",
       "      <td>...</td>\n",
       "      <td>...</td>\n",
       "      <td>...</td>\n",
       "      <td>...</td>\n",
       "      <td>...</td>\n",
       "      <td>...</td>\n",
       "    </tr>\n",
       "    <tr>\n",
       "      <th>2576</th>\n",
       "      <td>Observation25314974</td>\n",
       "      <td>Observation</td>\n",
       "      <td>Researcher</td>\n",
       "      <td>SiteVisit</td>\n",
       "      <td>Space386</td>\n",
       "      <td>conditionType</td>\n",
       "      <td>NaN</td>\n",
       "      <td>Not_conditioned</td>\n",
       "      <td>NaN</td>\n",
       "      <td>NaN</td>\n",
       "      <td>2014-02-07T00:00:00Z</td>\n",
       "    </tr>\n",
       "    <tr>\n",
       "      <th>2577</th>\n",
       "      <td>Observation25314975</td>\n",
       "      <td>Observation</td>\n",
       "      <td>Researcher</td>\n",
       "      <td>SiteVisit</td>\n",
       "      <td>Space386</td>\n",
       "      <td>area</td>\n",
       "      <td>NaN</td>\n",
       "      <td>NaN</td>\n",
       "      <td>43.68</td>\n",
       "      <td>M2</td>\n",
       "      <td>2014-02-07T00:00:00Z</td>\n",
       "    </tr>\n",
       "    <tr>\n",
       "      <th>2578</th>\n",
       "      <td>Observation25314976</td>\n",
       "      <td>Observation</td>\n",
       "      <td>Researcher</td>\n",
       "      <td>SiteVisit</td>\n",
       "      <td>Space386</td>\n",
       "      <td>volume</td>\n",
       "      <td>NaN</td>\n",
       "      <td>NaN</td>\n",
       "      <td>42.819091</td>\n",
       "      <td>M3</td>\n",
       "      <td>2014-02-07T00:00:00Z</td>\n",
       "    </tr>\n",
       "    <tr>\n",
       "      <th>2579</th>\n",
       "      <td>Observation25314977</td>\n",
       "      <td>Observation</td>\n",
       "      <td>Researcher</td>\n",
       "      <td>SiteVisit</td>\n",
       "      <td>Space386</td>\n",
       "      <td>storeyLevel</td>\n",
       "      <td>NaN</td>\n",
       "      <td>Storey2</td>\n",
       "      <td>NaN</td>\n",
       "      <td>NaN</td>\n",
       "      <td>2014-02-07T00:00:00Z</td>\n",
       "    </tr>\n",
       "    <tr>\n",
       "      <th>2580</th>\n",
       "      <td>Observation25314978</td>\n",
       "      <td>Observation</td>\n",
       "      <td>Researcher</td>\n",
       "      <td>SiteVisit</td>\n",
       "      <td>Space386</td>\n",
       "      <td>roomType</td>\n",
       "      <td>NaN</td>\n",
       "      <td>Loft</td>\n",
       "      <td>NaN</td>\n",
       "      <td>NaN</td>\n",
       "      <td>2014-02-07T00:00:00Z</td>\n",
       "    </tr>\n",
       "  </tbody>\n",
       "</table>\n",
       "<p>2581 rows × 11 columns</p>\n",
       "</div>"
      ],
      "text/plain": [
       "                       id         type madeBySensor usedProcedure  \\\n",
       "0     Observation25312398  Observation   Researcher     SiteVisit   \n",
       "1     Observation25312399  Observation   Researcher     SiteVisit   \n",
       "2     Observation25312400  Observation   Researcher     SiteVisit   \n",
       "3     Observation25312401  Observation   Researcher     SiteVisit   \n",
       "4     Observation25312402  Observation   Researcher     SiteVisit   \n",
       "...                   ...          ...          ...           ...   \n",
       "2576  Observation25314974  Observation   Researcher     SiteVisit   \n",
       "2577  Observation25314975  Observation   Researcher     SiteVisit   \n",
       "2578  Observation25314976  Observation   Researcher     SiteVisit   \n",
       "2579  Observation25314977  Observation   Researcher     SiteVisit   \n",
       "2580  Observation25314978  Observation   Researcher     SiteVisit   \n",
       "\n",
       "     hasFeatureOfInterest         observedProperty  hasSimpleResult  \\\n",
       "0              Building01            occupancyType              NaN   \n",
       "1              Building01            builtFormType              NaN   \n",
       "2              Building01              orientation              NaN   \n",
       "3              Building01     wallTypeMainBuilding              NaN   \n",
       "4              Building01  wallAgeBandMainBuilding              NaN   \n",
       "...                   ...                      ...              ...   \n",
       "2576             Space386            conditionType              NaN   \n",
       "2577             Space386                     area              NaN   \n",
       "2578             Space386                   volume              NaN   \n",
       "2579             Space386              storeyLevel              NaN   \n",
       "2580             Space386                 roomType              NaN   \n",
       "\n",
       "                       hasResult      value unit            resultTime  \n",
       "0         Single_family_dwelling        NaN  NaN  2013-10-01T00:00:00Z  \n",
       "1     Detached_house_or_bungalow        NaN  NaN  2013-10-01T00:00:00Z  \n",
       "2                            NaN        327  DEG  2013-10-01T00:00:00Z  \n",
       "3         Masonry-Boxwall-Cavity        NaN  NaN  2013-10-01T00:00:00Z  \n",
       "4                    1975_-_1980        NaN  NaN  2013-10-01T00:00:00Z  \n",
       "...                          ...        ...  ...                   ...  \n",
       "2576             Not_conditioned        NaN  NaN  2014-02-07T00:00:00Z  \n",
       "2577                         NaN      43.68   M2  2014-02-07T00:00:00Z  \n",
       "2578                         NaN  42.819091   M3  2014-02-07T00:00:00Z  \n",
       "2579                     Storey2        NaN  NaN  2014-02-07T00:00:00Z  \n",
       "2580                        Loft        NaN  NaN  2014-02-07T00:00:00Z  \n",
       "\n",
       "[2581 rows x 11 columns]"
      ]
     },
     "execution_count": 66,
     "metadata": {},
     "output_type": "execute_result"
    }
   ],
   "source": [
    "df=pd.read_csv('observation_survey_data.csv')\n",
    "df"
   ]
  },
  {
   "cell_type": "markdown",
   "id": "d01a2179",
   "metadata": {},
   "source": [
    "### spaces in building01"
   ]
  },
  {
   "cell_type": "code",
   "execution_count": 70,
   "id": "4755801c",
   "metadata": {},
   "outputs": [
    {
     "data": {
      "text/plain": [
       "array(['Space1', 'Space2', 'Space3', 'Space4', 'Space5', 'Space6',\n",
       "       'Space7', 'Space8', 'Space9', 'Space10', 'Space11', 'Space12',\n",
       "       'Space13', 'Space14', 'Space15', 'Space16', 'Space17', 'Space18',\n",
       "       'Space325', 'Space346'], dtype=object)"
      ]
     },
     "execution_count": 70,
     "metadata": {},
     "output_type": "execute_result"
    }
   ],
   "source": [
    "df[(df.observedProperty=='hasBuilding') & (df.hasResult=='Building01')].hasFeatureOfInterest.values"
   ]
  },
  {
   "cell_type": "code",
   "execution_count": null,
   "id": "51619266",
   "metadata": {},
   "outputs": [],
   "source": []
  }
 ],
 "metadata": {
  "kernelspec": {
   "display_name": "Python 3 (ipykernel)",
   "language": "python",
   "name": "python3"
  },
  "language_info": {
   "codemirror_mode": {
    "name": "ipython",
    "version": 3
   },
   "file_extension": ".py",
   "mimetype": "text/x-python",
   "name": "python",
   "nbconvert_exporter": "python",
   "pygments_lexer": "ipython3",
   "version": "3.9.7"
  }
 },
 "nbformat": 4,
 "nbformat_minor": 5
}
