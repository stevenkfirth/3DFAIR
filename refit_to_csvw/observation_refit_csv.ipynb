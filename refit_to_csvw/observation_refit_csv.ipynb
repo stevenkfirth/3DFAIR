{
 "cells": [
  {
   "cell_type": "markdown",
   "id": "c6ac8ecd",
   "metadata": {},
   "source": [
    "# observations_refit_csv"
   ]
  },
  {
   "cell_type": "markdown",
   "id": "0a61eb01",
   "metadata": {},
   "source": [
    "## setup"
   ]
  },
  {
   "cell_type": "code",
   "execution_count": 48,
   "id": "f7ede50b",
   "metadata": {},
   "outputs": [],
   "source": [
    "from lxml import etree\n",
    "import os\n",
    "import pandas as pd\n",
    "import csvw_functions\n",
    "import json\n",
    "from rdflib import Graph, SOSA, URIRef\n",
    "import csv"
   ]
  },
  {
   "cell_type": "markdown",
   "id": "799e7038",
   "metadata": {},
   "source": [
    "## Read in the data"
   ]
  },
  {
   "cell_type": "code",
   "execution_count": 49,
   "id": "060b1d84",
   "metadata": {},
   "outputs": [],
   "source": [
    "data_dir=r'C:\\Users\\cvskf\\OneDrive - Loughborough University\\_Data\\REFIT_Smart_Home_dataset_PUBLIC_v1\\Data'"
   ]
  },
  {
   "cell_type": "code",
   "execution_count": 50,
   "id": "9c0928b7",
   "metadata": {},
   "outputs": [
    {
     "data": {
      "text/plain": [
       "<lxml.etree._ElementTree at 0x279709eaa80>"
      ]
     },
     "execution_count": 50,
     "metadata": {},
     "output_type": "execute_result"
    }
   ],
   "source": [
    "tree=etree.parse(os.path.join(data_dir,'REFIT_BUILDING_SURVEY.xml'))\n",
    "NS={'refit':'http://www.refitsmarthomes.org'}\n",
    "tree"
   ]
  },
  {
   "cell_type": "markdown",
   "id": "e73b4b34",
   "metadata": {},
   "source": [
    "## Get refit csv headings"
   ]
  },
  {
   "cell_type": "code",
   "execution_count": 51,
   "id": "94c47b1c",
   "metadata": {},
   "outputs": [
    {
     "data": {
      "text/html": [
       "<div>\n",
       "<style scoped>\n",
       "    .dataframe tbody tr th:only-of-type {\n",
       "        vertical-align: middle;\n",
       "    }\n",
       "\n",
       "    .dataframe tbody tr th {\n",
       "        vertical-align: top;\n",
       "    }\n",
       "\n",
       "    .dataframe thead th {\n",
       "        text-align: right;\n",
       "    }\n",
       "</style>\n",
       "<table border=\"1\" class=\"dataframe\">\n",
       "  <thead>\n",
       "    <tr style=\"text-align: right;\">\n",
       "      <th></th>\n",
       "      <th>TimeSeriesVariable/@id</th>\n",
       "      <th>dateTime</th>\n",
       "      <th>data</th>\n",
       "    </tr>\n",
       "  </thead>\n",
       "  <tbody>\n",
       "    <tr>\n",
       "      <th>0</th>\n",
       "      <td>TimeSeriesVariable1</td>\n",
       "      <td>2013-10-02T05:00:00Z</td>\n",
       "      <td>17.772</td>\n",
       "    </tr>\n",
       "  </tbody>\n",
       "</table>\n",
       "</div>"
      ],
      "text/plain": [
       "  TimeSeriesVariable/@id              dateTime    data\n",
       "0    TimeSeriesVariable1  2013-10-02T05:00:00Z  17.772"
      ]
     },
     "execution_count": 51,
     "metadata": {},
     "output_type": "execute_result"
    }
   ],
   "source": [
    "pd.read_csv(os.path.join(data_dir,r'REFIT_TIME_SERIES_VALUES.csv'),nrows=1)"
   ]
  },
  {
   "cell_type": "markdown",
   "id": "4ceaac16",
   "metadata": {},
   "source": [
    "## get tsv_dicts"
   ]
  },
  {
   "cell_type": "markdown",
   "id": "314bced8",
   "metadata": {},
   "source": [
    "### tsv_id:tsv_node"
   ]
  },
  {
   "cell_type": "code",
   "execution_count": 52,
   "id": "a45d972e",
   "metadata": {},
   "outputs": [
    {
     "data": {
      "text/plain": [
       "(2457,\n",
       " ('TimeSeriesVariable1573',\n",
       "  <Element {http://www.refitsmarthomes.org}TimeSeriesVariable at 0x27799605fc0>))"
      ]
     },
     "execution_count": 52,
     "metadata": {},
     "output_type": "execute_result"
    }
   ],
   "source": [
    "tsv_node_dict={n.get('id'):n for n in tree.xpath('//refit:TimeSeriesVariable',namespaces=NS)}\n",
    "len(tsv_node_dict), next(iter(tsv_node_dict.items())) "
   ]
  },
  {
   "cell_type": "markdown",
   "id": "9dd23a41",
   "metadata": {},
   "source": [
    "### what are the parent nodes of the tsv_nodes?\n",
    "\n",
    "And their tag, manufaturer and model properties"
   ]
  },
  {
   "cell_type": "code",
   "execution_count": 53,
   "id": "213ced91",
   "metadata": {},
   "outputs": [
    {
     "data": {
      "text/plain": [
       "{('{http://www.refitsmarthomes.org}Appliance', 'RWE', 'Smart Home Control'),\n",
       " ('{http://www.refitsmarthomes.org}RadiatorValve', 'RWE', 'TRV'),\n",
       " ('{http://www.refitsmarthomes.org}Sensor',\n",
       "  'CurrentCost',\n",
       "  'Individual appliance monitor (IAM)'),\n",
       " ('{http://www.refitsmarthomes.org}Sensor', 'CurrentCost', 'Mains clamp'),\n",
       " ('{http://www.refitsmarthomes.org}Sensor', 'Enica', 'Pulse logger'),\n",
       " ('{http://www.refitsmarthomes.org}Sensor', 'Maxim', 'iButton'),\n",
       " ('{http://www.refitsmarthomes.org}Sensor', 'Onset', 'Hobo U12'),\n",
       " ('{http://www.refitsmarthomes.org}Sensor', 'Onset', 'Hobo pendant'),\n",
       " ('{http://www.refitsmarthomes.org}Sensor', 'RWE', 'Alarm'),\n",
       " ('{http://www.refitsmarthomes.org}Sensor', 'RWE', 'Appliance plug'),\n",
       " ('{http://www.refitsmarthomes.org}Sensor', 'RWE', 'Contact sensor'),\n",
       " ('{http://www.refitsmarthomes.org}Sensor', 'RWE', 'Exterior motion detector'),\n",
       " ('{http://www.refitsmarthomes.org}Sensor', 'RWE', 'Interior motion detector'),\n",
       " ('{http://www.refitsmarthomes.org}Sensor', 'RWE', 'Smoke detector'),\n",
       " ('{http://www.refitsmarthomes.org}Sensor',\n",
       "  'Smart Metering Solutions',\n",
       "  'Replacement gas meter'),\n",
       " ('{http://www.refitsmarthomes.org}Sensor', None, None)}"
      ]
     },
     "execution_count": 53,
     "metadata": {},
     "output_type": "execute_result"
    }
   ],
   "source": [
    "set((n.getparent().tag,n.getparent().get('manufacturer'),n.getparent().get('model')) for n in tsv_node_dict.values())"
   ]
  },
  {
   "cell_type": "markdown",
   "id": "5ff4fa21",
   "metadata": {},
   "source": [
    "### get madeBySensor"
   ]
  },
  {
   "cell_type": "code",
   "execution_count": 54,
   "id": "14cf39b6",
   "metadata": {},
   "outputs": [
    {
     "data": {
      "text/plain": [
       "(2457, ('TimeSeriesVariable1573', 'Sensor1247'))"
      ]
     },
     "execution_count": 54,
     "metadata": {},
     "output_type": "execute_result"
    }
   ],
   "source": [
    "def get_madeBySensor(tsv_node):\n",
    "    \"\"\n",
    "    n=tsv_node.getparent()\n",
    "    st=''\n",
    "    manufacturer=n.get('manufacturer')\n",
    "    if manufacturer:\n",
    "        st+=manufacturer.replace(' ','_') + '_'\n",
    "    model=n.get('model')\n",
    "    if model:\n",
    "        st+=model.replace(' ','_') + '_' \n",
    "    st+=n.get('id')\n",
    "    return st\n",
    "    \n",
    "madeBySensor_dict={k:get_madeBySensor(v) for k,v in tsv_node_dict.items()}\n",
    "len(madeBySensor_dict), next(iter(madeBySensor_dict.items())) "
   ]
  },
  {
   "cell_type": "markdown",
   "id": "45ff3a7d",
   "metadata": {},
   "source": [
    "### get usedProcedure"
   ]
  },
  {
   "cell_type": "code",
   "execution_count": 55,
   "id": "8a52b17a",
   "metadata": {},
   "outputs": [
    {
     "data": {
      "text/plain": [
       "(2457, ('TimeSeriesVariable1573', 'Procedure1573'))"
      ]
     },
     "execution_count": 55,
     "metadata": {},
     "output_type": "execute_result"
    }
   ],
   "source": [
    "def get_usedProcedure(tsv_id):\n",
    "    \"\"\n",
    "    return 'Procedure'+tsv_id.removeprefix('TimeSeriesVariable')\n",
    "\n",
    "usedProcedure_dict={k:get_usedProcedure(k) for k in tsv_node_dict}\n",
    "len(usedProcedure_dict), next(iter(usedProcedure_dict.items())) "
   ]
  },
  {
   "cell_type": "markdown",
   "id": "629fc3e4",
   "metadata": {},
   "source": [
    "### get hasFeatureOfInterest"
   ]
  },
  {
   "cell_type": "code",
   "execution_count": 56,
   "id": "f72281fb",
   "metadata": {},
   "outputs": [
    {
     "data": {
      "text/plain": [
       "(2457, ('TimeSeriesVariable1573', 'Climate1'))"
      ]
     },
     "execution_count": 56,
     "metadata": {},
     "output_type": "execute_result"
    }
   ],
   "source": [
    "def get_hasFeatureOfInterest(tsv_node):\n",
    "    \"\"\n",
    "    x=tsv_node.getparent()\n",
    "    if 'Sensor' in x.tag:\n",
    "        x=x.getparent()\n",
    "    return x.get('id')\n",
    "\n",
    "hasFeatureOfInterest_dict={k:get_hasFeatureOfInterest(v) for k,v in tsv_node_dict.items()}\n",
    "len(hasFeatureOfInterest_dict), next(iter(hasFeatureOfInterest_dict.items())) "
   ]
  },
  {
   "cell_type": "markdown",
   "id": "3d18ba6f",
   "metadata": {},
   "source": [
    "### get observedProperty"
   ]
  },
  {
   "cell_type": "code",
   "execution_count": 57,
   "id": "53ecf210",
   "metadata": {},
   "outputs": [
    {
     "data": {
      "text/plain": [
       "(2457, ('TimeSeriesVariable1573', 'Air_temperature'))"
      ]
     },
     "execution_count": 57,
     "metadata": {},
     "output_type": "execute_result"
    }
   ],
   "source": [
    "def get_observedProperty(tsv_node):\n",
    "    \"\"\n",
    "    return tsv_node.get('variableType').replace(' ','_')\n",
    "\n",
    "observedProperty_dict={k:get_observedProperty(v) for k,v in tsv_node_dict.items()}\n",
    "len(observedProperty_dict), next(iter(observedProperty_dict.items())) "
   ]
  },
  {
   "cell_type": "markdown",
   "id": "795965df",
   "metadata": {},
   "source": [
    "### get unit and multiplier"
   ]
  },
  {
   "cell_type": "code",
   "execution_count": 58,
   "id": "d6ae2070",
   "metadata": {},
   "outputs": [
    {
     "data": {
      "text/plain": [
       "(2457, ('TimeSeriesVariable1573', ('DEG_C', 1)))"
      ]
     },
     "execution_count": 58,
     "metadata": {},
     "output_type": "execute_result"
    }
   ],
   "source": [
    "def get_unit_and_multiplier(tsv_node):\n",
    "    \"\"\n",
    "    x=tsv_node.get('units')\n",
    "    if x in ['C','Deg','Deg C','degrees C']:\n",
    "        return 'DEG_C', 1\n",
    "    elif x=='%':\n",
    "        return 'PERCENT', 1\n",
    "    elif x=='Cubic metres':\n",
    "        return 'M3', 1\n",
    "    elif x=='Lux':\n",
    "        return 'LUX', 1\n",
    "    elif x=='MJ/m^2':\n",
    "        return 'J-PER-M2',1000000\n",
    "    elif x=='W':\n",
    "        return 'W',1\n",
    "    elif x=='W/m^2':\n",
    "        return 'W-PER-m2', 1\n",
    "    elif x=='hPa':\n",
    "        return 'HectoPa', 1\n",
    "    elif x=='kW/m^2':\n",
    "        return 'W-PER-M2', 1000\n",
    "    elif x=='m/s':\n",
    "        return 'M-PER-SEC', 1\n",
    "    elif x=='mm':\n",
    "        return 'MilliM', 1\n",
    "    elif x is None:\n",
    "        return '', 1\n",
    "    else:\n",
    "        raise Exception(x)\n",
    "        \n",
    "unit_and_multiplier_dict={k:get_unit_and_multiplier(v) for k,v in tsv_node_dict.items()}\n",
    "len(unit_and_multiplier_dict), next(iter(unit_and_multiplier_dict.items())) "
   ]
  },
  {
   "cell_type": "code",
   "execution_count": 59,
   "id": "6f4c2ffc",
   "metadata": {},
   "outputs": [
    {
     "data": {
      "text/plain": [
       "(2457, ('TimeSeriesVariable1573', 'DEG_C'))"
      ]
     },
     "execution_count": 59,
     "metadata": {},
     "output_type": "execute_result"
    }
   ],
   "source": [
    "unit_dict={k:v[0] for k,v in unit_and_multiplier_dict.items()}\n",
    "len(unit_dict), next(iter(unit_dict.items())) "
   ]
  },
  {
   "cell_type": "code",
   "execution_count": 60,
   "id": "34210b69",
   "metadata": {},
   "outputs": [
    {
     "data": {
      "text/plain": [
       "(2457, ('TimeSeriesVariable1573', 1))"
      ]
     },
     "execution_count": 60,
     "metadata": {},
     "output_type": "execute_result"
    }
   ],
   "source": [
    "multiplier_dict={k:v[1] for k,v in unit_and_multiplier_dict.items()}\n",
    "len(multiplier_dict), next(iter(multiplier_dict.items())) "
   ]
  },
  {
   "cell_type": "code",
   "execution_count": 61,
   "id": "45726198",
   "metadata": {},
   "outputs": [
    {
     "data": {
      "text/plain": [
       "['Observation',\n",
       " 'Onset_Hobo_U12_Sensor1',\n",
       " 'Procedure1',\n",
       " 'Space13',\n",
       " 'Air_temperature',\n",
       " '17.772',\n",
       " 'DEG_C',\n",
       " '2013-10-02T05:00:00Z']"
      ]
     },
     "execution_count": 61,
     "metadata": {},
     "output_type": "execute_result"
    }
   ],
   "source": [
    "def get_output_row(input_row):\n",
    "    \"\"\n",
    "    tsv_id, dateTime, data=input_row\n",
    "    \n",
    "    multiplier=multiplier_dict[tsv_id]\n",
    "    \n",
    "    if multiplier==1:\n",
    "        value=data\n",
    "    else:\n",
    "        value=str(float(data)*multiplier)\n",
    "    \n",
    "    return [\n",
    "        'Observation',\n",
    "        madeBySensor_dict[tsv_id],\n",
    "        usedProcedure_dict[tsv_id],\n",
    "        hasFeatureOfInterest_dict[tsv_id],\n",
    "        observedProperty_dict[tsv_id],\n",
    "        value,\n",
    "        unit_dict[tsv_id],\n",
    "        dateTime\n",
    "    ]\n",
    "    \n",
    "get_output_row(['TimeSeriesVariable1','2013-10-02T05:00:00Z','17.772'])"
   ]
  },
  {
   "cell_type": "markdown",
   "id": "75561e03",
   "metadata": {},
   "source": [
    "## Loop through refit csv"
   ]
  },
  {
   "cell_type": "code",
   "execution_count": 66,
   "id": "2883dead",
   "metadata": {},
   "outputs": [
    {
     "name": "stdout",
     "output_type": "stream",
     "text": [
      "0 1000000 2000000 3000000 4000000 5000000 6000000 7000000 8000000 9000000 10000000 11000000 12000000 13000000 14000000 15000000 16000000 17000000 18000000 19000000 20000000 21000000 22000000 23000000 24000000 25000000 DONE\n"
     ]
    }
   ],
   "source": [
    "with open('observation_sensor_data.csv','w', newline='') as f1:\n",
    "    csvwriter=csv.writer(f1)\n",
    "\n",
    "    with open(os.path.join(data_dir,r'REFIT_TIME_SERIES_VALUES.csv')) as f:\n",
    "        csvreader = csv.reader(f)\n",
    "\n",
    "        for i,input_row in enumerate(csvreader):\n",
    "            \n",
    "            if i%1000000==0:\n",
    "                print(i, end=' ')\n",
    "            \n",
    "            if i==0:\n",
    "                \n",
    "                csvwriter.writerow(['id','type','madeBySensor','usedProcedure','hasFeatureOfInterest',\n",
    "                                    'observedProperty','value','unit','resultTime'])\n",
    "                \n",
    "            else:\n",
    "            \n",
    "                csvwriter.writerow([f'Observation{str(i)}']+get_output_row(input_row))\n",
    "            \n",
    "            #if i==2: break\n",
    "            \n",
    "print('DONE')"
   ]
  },
  {
   "cell_type": "markdown",
   "id": "a745a7d3",
   "metadata": {},
   "source": [
    "## Tests"
   ]
  },
  {
   "cell_type": "code",
   "execution_count": 68,
   "id": "0a0bc599",
   "metadata": {},
   "outputs": [
    {
     "data": {
      "text/html": [
       "<div>\n",
       "<style scoped>\n",
       "    .dataframe tbody tr th:only-of-type {\n",
       "        vertical-align: middle;\n",
       "    }\n",
       "\n",
       "    .dataframe tbody tr th {\n",
       "        vertical-align: top;\n",
       "    }\n",
       "\n",
       "    .dataframe thead th {\n",
       "        text-align: right;\n",
       "    }\n",
       "</style>\n",
       "<table border=\"1\" class=\"dataframe\">\n",
       "  <thead>\n",
       "    <tr style=\"text-align: right;\">\n",
       "      <th></th>\n",
       "      <th>id</th>\n",
       "      <th>type</th>\n",
       "      <th>madeBySensor</th>\n",
       "      <th>usedProcedure</th>\n",
       "      <th>hasFeatureOfInterest</th>\n",
       "      <th>observedProperty</th>\n",
       "      <th>value</th>\n",
       "      <th>unit</th>\n",
       "      <th>resultTime</th>\n",
       "    </tr>\n",
       "  </thead>\n",
       "  <tbody>\n",
       "    <tr>\n",
       "      <th>0</th>\n",
       "      <td>Observation1</td>\n",
       "      <td>Observation</td>\n",
       "      <td>Onset_Hobo_U12_Sensor1</td>\n",
       "      <td>Procedure1</td>\n",
       "      <td>Space13</td>\n",
       "      <td>Air_temperature</td>\n",
       "      <td>17.772</td>\n",
       "      <td>DEG_C</td>\n",
       "      <td>2013-10-02 05:00:00+00:00</td>\n",
       "    </tr>\n",
       "    <tr>\n",
       "      <th>1</th>\n",
       "      <td>Observation2</td>\n",
       "      <td>Observation</td>\n",
       "      <td>Onset_Hobo_U12_Sensor1</td>\n",
       "      <td>Procedure1</td>\n",
       "      <td>Space13</td>\n",
       "      <td>Air_temperature</td>\n",
       "      <td>18.081</td>\n",
       "      <td>DEG_C</td>\n",
       "      <td>2013-10-02 05:30:00+00:00</td>\n",
       "    </tr>\n",
       "    <tr>\n",
       "      <th>2</th>\n",
       "      <td>Observation3</td>\n",
       "      <td>Observation</td>\n",
       "      <td>Onset_Hobo_U12_Sensor1</td>\n",
       "      <td>Procedure1</td>\n",
       "      <td>Space13</td>\n",
       "      <td>Air_temperature</td>\n",
       "      <td>18.176</td>\n",
       "      <td>DEG_C</td>\n",
       "      <td>2013-10-02 06:00:00+00:00</td>\n",
       "    </tr>\n",
       "    <tr>\n",
       "      <th>3</th>\n",
       "      <td>Observation4</td>\n",
       "      <td>Observation</td>\n",
       "      <td>Onset_Hobo_U12_Sensor1</td>\n",
       "      <td>Procedure1</td>\n",
       "      <td>Space13</td>\n",
       "      <td>Air_temperature</td>\n",
       "      <td>18.176</td>\n",
       "      <td>DEG_C</td>\n",
       "      <td>2013-10-02 06:30:00+00:00</td>\n",
       "    </tr>\n",
       "    <tr>\n",
       "      <th>4</th>\n",
       "      <td>Observation5</td>\n",
       "      <td>Observation</td>\n",
       "      <td>Onset_Hobo_U12_Sensor1</td>\n",
       "      <td>Procedure1</td>\n",
       "      <td>Space13</td>\n",
       "      <td>Air_temperature</td>\n",
       "      <td>18.105</td>\n",
       "      <td>DEG_C</td>\n",
       "      <td>2013-10-02 07:00:00+00:00</td>\n",
       "    </tr>\n",
       "    <tr>\n",
       "      <th>...</th>\n",
       "      <td>...</td>\n",
       "      <td>...</td>\n",
       "      <td>...</td>\n",
       "      <td>...</td>\n",
       "      <td>...</td>\n",
       "      <td>...</td>\n",
       "      <td>...</td>\n",
       "      <td>...</td>\n",
       "      <td>...</td>\n",
       "    </tr>\n",
       "    <tr>\n",
       "      <th>25312392</th>\n",
       "      <td>Observation25312393</td>\n",
       "      <td>Observation</td>\n",
       "      <td>RWE_Smoke_detector_Sensor1449</td>\n",
       "      <td>Procedure2359</td>\n",
       "      <td>Building16</td>\n",
       "      <td>Alarm</td>\n",
       "      <td>-10005.000</td>\n",
       "      <td></td>\n",
       "      <td>2014-12-02 16:33:00+00:00</td>\n",
       "    </tr>\n",
       "    <tr>\n",
       "      <th>25312393</th>\n",
       "      <td>Observation25312394</td>\n",
       "      <td>Observation</td>\n",
       "      <td>RWE_Smoke_detector_Sensor1449</td>\n",
       "      <td>Procedure2359</td>\n",
       "      <td>Building16</td>\n",
       "      <td>Alarm</td>\n",
       "      <td>-10005.000</td>\n",
       "      <td></td>\n",
       "      <td>2014-12-28 13:22:00+00:00</td>\n",
       "    </tr>\n",
       "    <tr>\n",
       "      <th>25312394</th>\n",
       "      <td>Observation25312395</td>\n",
       "      <td>Observation</td>\n",
       "      <td>RWE_Smoke_detector_Sensor1449</td>\n",
       "      <td>Procedure2359</td>\n",
       "      <td>Building16</td>\n",
       "      <td>Alarm</td>\n",
       "      <td>-10005.000</td>\n",
       "      <td></td>\n",
       "      <td>2015-02-17 08:39:00+00:00</td>\n",
       "    </tr>\n",
       "    <tr>\n",
       "      <th>25312395</th>\n",
       "      <td>Observation25312396</td>\n",
       "      <td>Observation</td>\n",
       "      <td>RWE_Smoke_detector_Sensor1449</td>\n",
       "      <td>Procedure2359</td>\n",
       "      <td>Building16</td>\n",
       "      <td>Alarm</td>\n",
       "      <td>-10005.000</td>\n",
       "      <td></td>\n",
       "      <td>2015-02-28 08:09:00+00:00</td>\n",
       "    </tr>\n",
       "    <tr>\n",
       "      <th>25312396</th>\n",
       "      <td>Observation25312397</td>\n",
       "      <td>Observation</td>\n",
       "      <td>RWE_Smoke_detector_Sensor1450</td>\n",
       "      <td>Procedure2360</td>\n",
       "      <td>Building17</td>\n",
       "      <td>Alarm</td>\n",
       "      <td>-10005.000</td>\n",
       "      <td></td>\n",
       "      <td>2015-03-11 10:52:00+00:00</td>\n",
       "    </tr>\n",
       "  </tbody>\n",
       "</table>\n",
       "<p>25312397 rows × 9 columns</p>\n",
       "</div>"
      ],
      "text/plain": [
       "                           id         type                   madeBySensor  \\\n",
       "0                Observation1  Observation         Onset_Hobo_U12_Sensor1   \n",
       "1                Observation2  Observation         Onset_Hobo_U12_Sensor1   \n",
       "2                Observation3  Observation         Onset_Hobo_U12_Sensor1   \n",
       "3                Observation4  Observation         Onset_Hobo_U12_Sensor1   \n",
       "4                Observation5  Observation         Onset_Hobo_U12_Sensor1   \n",
       "...                       ...          ...                            ...   \n",
       "25312392  Observation25312393  Observation  RWE_Smoke_detector_Sensor1449   \n",
       "25312393  Observation25312394  Observation  RWE_Smoke_detector_Sensor1449   \n",
       "25312394  Observation25312395  Observation  RWE_Smoke_detector_Sensor1449   \n",
       "25312395  Observation25312396  Observation  RWE_Smoke_detector_Sensor1449   \n",
       "25312396  Observation25312397  Observation  RWE_Smoke_detector_Sensor1450   \n",
       "\n",
       "          usedProcedure hasFeatureOfInterest observedProperty      value  \\\n",
       "0            Procedure1              Space13  Air_temperature     17.772   \n",
       "1            Procedure1              Space13  Air_temperature     18.081   \n",
       "2            Procedure1              Space13  Air_temperature     18.176   \n",
       "3            Procedure1              Space13  Air_temperature     18.176   \n",
       "4            Procedure1              Space13  Air_temperature     18.105   \n",
       "...                 ...                  ...              ...        ...   \n",
       "25312392  Procedure2359           Building16            Alarm -10005.000   \n",
       "25312393  Procedure2359           Building16            Alarm -10005.000   \n",
       "25312394  Procedure2359           Building16            Alarm -10005.000   \n",
       "25312395  Procedure2359           Building16            Alarm -10005.000   \n",
       "25312396  Procedure2360           Building17            Alarm -10005.000   \n",
       "\n",
       "           unit                resultTime  \n",
       "0         DEG_C 2013-10-02 05:00:00+00:00  \n",
       "1         DEG_C 2013-10-02 05:30:00+00:00  \n",
       "2         DEG_C 2013-10-02 06:00:00+00:00  \n",
       "3         DEG_C 2013-10-02 06:30:00+00:00  \n",
       "4         DEG_C 2013-10-02 07:00:00+00:00  \n",
       "...         ...                       ...  \n",
       "25312392        2014-12-02 16:33:00+00:00  \n",
       "25312393        2014-12-28 13:22:00+00:00  \n",
       "25312394        2015-02-17 08:39:00+00:00  \n",
       "25312395        2015-02-28 08:09:00+00:00  \n",
       "25312396        2015-03-11 10:52:00+00:00  \n",
       "\n",
       "[25312397 rows x 9 columns]"
      ]
     },
     "execution_count": 68,
     "metadata": {},
     "output_type": "execute_result"
    }
   ],
   "source": [
    "df=pd.read_csv('observation_sensor_data.csv',\n",
    "               #nrows=1\n",
    "               na_filter=False,\n",
    "               parse_dates=['resultTime']\n",
    "              )\n",
    "df"
   ]
  },
  {
   "cell_type": "code",
   "execution_count": 69,
   "id": "9edf0b9a",
   "metadata": {},
   "outputs": [
    {
     "name": "stdout",
     "output_type": "stream",
     "text": [
      "<class 'pandas.core.frame.DataFrame'>\n",
      "RangeIndex: 25312397 entries, 0 to 25312396\n",
      "Data columns (total 9 columns):\n",
      " #   Column                Dtype              \n",
      "---  ------                -----              \n",
      " 0   id                    object             \n",
      " 1   type                  object             \n",
      " 2   madeBySensor          object             \n",
      " 3   usedProcedure         object             \n",
      " 4   hasFeatureOfInterest  object             \n",
      " 5   observedProperty      object             \n",
      " 6   value                 float64            \n",
      " 7   unit                  object             \n",
      " 8   resultTime            datetime64[ns, UTC]\n",
      "dtypes: datetime64[ns, UTC](1), float64(1), object(7)\n",
      "memory usage: 1.7+ GB\n"
     ]
    }
   ],
   "source": [
    "df.info()"
   ]
  },
  {
   "cell_type": "markdown",
   "id": "d075e53a",
   "metadata": {},
   "source": [
    "### find air temperatures measured by Hobo sensors in 2014"
   ]
  },
  {
   "cell_type": "code",
   "execution_count": 71,
   "id": "10f8aa7c",
   "metadata": {},
   "outputs": [
    {
     "data": {
      "text/html": [
       "<div>\n",
       "<style scoped>\n",
       "    .dataframe tbody tr th:only-of-type {\n",
       "        vertical-align: middle;\n",
       "    }\n",
       "\n",
       "    .dataframe tbody tr th {\n",
       "        vertical-align: top;\n",
       "    }\n",
       "\n",
       "    .dataframe thead th {\n",
       "        text-align: right;\n",
       "    }\n",
       "</style>\n",
       "<table border=\"1\" class=\"dataframe\">\n",
       "  <thead>\n",
       "    <tr style=\"text-align: right;\">\n",
       "      <th></th>\n",
       "      <th>id</th>\n",
       "      <th>type</th>\n",
       "      <th>madeBySensor</th>\n",
       "      <th>usedProcedure</th>\n",
       "      <th>hasFeatureOfInterest</th>\n",
       "      <th>observedProperty</th>\n",
       "      <th>value</th>\n",
       "      <th>unit</th>\n",
       "      <th>resultTime</th>\n",
       "    </tr>\n",
       "  </thead>\n",
       "  <tbody>\n",
       "    <tr>\n",
       "      <th>4354</th>\n",
       "      <td>Observation4355</td>\n",
       "      <td>Observation</td>\n",
       "      <td>Onset_Hobo_U12_Sensor2</td>\n",
       "      <td>Procedure2</td>\n",
       "      <td>Space13</td>\n",
       "      <td>Air_temperature</td>\n",
       "      <td>17.677222</td>\n",
       "      <td>DEG_C</td>\n",
       "      <td>2014-01-01 00:00:00+00:00</td>\n",
       "    </tr>\n",
       "    <tr>\n",
       "      <th>4355</th>\n",
       "      <td>Observation4356</td>\n",
       "      <td>Observation</td>\n",
       "      <td>Onset_Hobo_U12_Sensor2</td>\n",
       "      <td>Procedure2</td>\n",
       "      <td>Space13</td>\n",
       "      <td>Air_temperature</td>\n",
       "      <td>17.937778</td>\n",
       "      <td>DEG_C</td>\n",
       "      <td>2014-01-01 00:30:00+00:00</td>\n",
       "    </tr>\n",
       "    <tr>\n",
       "      <th>4356</th>\n",
       "      <td>Observation4357</td>\n",
       "      <td>Observation</td>\n",
       "      <td>Onset_Hobo_U12_Sensor2</td>\n",
       "      <td>Procedure2</td>\n",
       "      <td>Space13</td>\n",
       "      <td>Air_temperature</td>\n",
       "      <td>18.247222</td>\n",
       "      <td>DEG_C</td>\n",
       "      <td>2014-01-01 01:00:00+00:00</td>\n",
       "    </tr>\n",
       "    <tr>\n",
       "      <th>4357</th>\n",
       "      <td>Observation4358</td>\n",
       "      <td>Observation</td>\n",
       "      <td>Onset_Hobo_U12_Sensor2</td>\n",
       "      <td>Procedure2</td>\n",
       "      <td>Space13</td>\n",
       "      <td>Air_temperature</td>\n",
       "      <td>17.486111</td>\n",
       "      <td>DEG_C</td>\n",
       "      <td>2014-01-01 01:30:00+00:00</td>\n",
       "    </tr>\n",
       "    <tr>\n",
       "      <th>4358</th>\n",
       "      <td>Observation4359</td>\n",
       "      <td>Observation</td>\n",
       "      <td>Onset_Hobo_U12_Sensor2</td>\n",
       "      <td>Procedure2</td>\n",
       "      <td>Space13</td>\n",
       "      <td>Air_temperature</td>\n",
       "      <td>17.011111</td>\n",
       "      <td>DEG_C</td>\n",
       "      <td>2014-01-01 02:00:00+00:00</td>\n",
       "    </tr>\n",
       "    <tr>\n",
       "      <th>...</th>\n",
       "      <td>...</td>\n",
       "      <td>...</td>\n",
       "      <td>...</td>\n",
       "      <td>...</td>\n",
       "      <td>...</td>\n",
       "      <td>...</td>\n",
       "      <td>...</td>\n",
       "      <td>...</td>\n",
       "      <td>...</td>\n",
       "    </tr>\n",
       "    <tr>\n",
       "      <th>8041986</th>\n",
       "      <td>Observation8041987</td>\n",
       "      <td>Observation</td>\n",
       "      <td>Onset_Hobo_pendant_Sensor425</td>\n",
       "      <td>Procedure425</td>\n",
       "      <td>Space151</td>\n",
       "      <td>Air_temperature</td>\n",
       "      <td>18.426000</td>\n",
       "      <td>DEG_C</td>\n",
       "      <td>2014-12-31 22:45:00+00:00</td>\n",
       "    </tr>\n",
       "    <tr>\n",
       "      <th>8041987</th>\n",
       "      <td>Observation8041988</td>\n",
       "      <td>Observation</td>\n",
       "      <td>Onset_Hobo_pendant_Sensor425</td>\n",
       "      <td>Procedure425</td>\n",
       "      <td>Space151</td>\n",
       "      <td>Air_temperature</td>\n",
       "      <td>18.426000</td>\n",
       "      <td>DEG_C</td>\n",
       "      <td>2014-12-31 23:00:00+00:00</td>\n",
       "    </tr>\n",
       "    <tr>\n",
       "      <th>8041988</th>\n",
       "      <td>Observation8041989</td>\n",
       "      <td>Observation</td>\n",
       "      <td>Onset_Hobo_pendant_Sensor425</td>\n",
       "      <td>Procedure425</td>\n",
       "      <td>Space151</td>\n",
       "      <td>Air_temperature</td>\n",
       "      <td>18.521000</td>\n",
       "      <td>DEG_C</td>\n",
       "      <td>2014-12-31 23:15:00+00:00</td>\n",
       "    </tr>\n",
       "    <tr>\n",
       "      <th>8041989</th>\n",
       "      <td>Observation8041990</td>\n",
       "      <td>Observation</td>\n",
       "      <td>Onset_Hobo_pendant_Sensor425</td>\n",
       "      <td>Procedure425</td>\n",
       "      <td>Space151</td>\n",
       "      <td>Air_temperature</td>\n",
       "      <td>18.616000</td>\n",
       "      <td>DEG_C</td>\n",
       "      <td>2014-12-31 23:30:00+00:00</td>\n",
       "    </tr>\n",
       "    <tr>\n",
       "      <th>8041990</th>\n",
       "      <td>Observation8041991</td>\n",
       "      <td>Observation</td>\n",
       "      <td>Onset_Hobo_pendant_Sensor425</td>\n",
       "      <td>Procedure425</td>\n",
       "      <td>Space151</td>\n",
       "      <td>Air_temperature</td>\n",
       "      <td>18.616000</td>\n",
       "      <td>DEG_C</td>\n",
       "      <td>2014-12-31 23:45:00+00:00</td>\n",
       "    </tr>\n",
       "  </tbody>\n",
       "</table>\n",
       "<p>4870994 rows × 9 columns</p>\n",
       "</div>"
      ],
      "text/plain": [
       "                         id         type                  madeBySensor  \\\n",
       "4354        Observation4355  Observation        Onset_Hobo_U12_Sensor2   \n",
       "4355        Observation4356  Observation        Onset_Hobo_U12_Sensor2   \n",
       "4356        Observation4357  Observation        Onset_Hobo_U12_Sensor2   \n",
       "4357        Observation4358  Observation        Onset_Hobo_U12_Sensor2   \n",
       "4358        Observation4359  Observation        Onset_Hobo_U12_Sensor2   \n",
       "...                     ...          ...                           ...   \n",
       "8041986  Observation8041987  Observation  Onset_Hobo_pendant_Sensor425   \n",
       "8041987  Observation8041988  Observation  Onset_Hobo_pendant_Sensor425   \n",
       "8041988  Observation8041989  Observation  Onset_Hobo_pendant_Sensor425   \n",
       "8041989  Observation8041990  Observation  Onset_Hobo_pendant_Sensor425   \n",
       "8041990  Observation8041991  Observation  Onset_Hobo_pendant_Sensor425   \n",
       "\n",
       "        usedProcedure hasFeatureOfInterest observedProperty      value   unit  \\\n",
       "4354       Procedure2              Space13  Air_temperature  17.677222  DEG_C   \n",
       "4355       Procedure2              Space13  Air_temperature  17.937778  DEG_C   \n",
       "4356       Procedure2              Space13  Air_temperature  18.247222  DEG_C   \n",
       "4357       Procedure2              Space13  Air_temperature  17.486111  DEG_C   \n",
       "4358       Procedure2              Space13  Air_temperature  17.011111  DEG_C   \n",
       "...               ...                  ...              ...        ...    ...   \n",
       "8041986  Procedure425             Space151  Air_temperature  18.426000  DEG_C   \n",
       "8041987  Procedure425             Space151  Air_temperature  18.426000  DEG_C   \n",
       "8041988  Procedure425             Space151  Air_temperature  18.521000  DEG_C   \n",
       "8041989  Procedure425             Space151  Air_temperature  18.616000  DEG_C   \n",
       "8041990  Procedure425             Space151  Air_temperature  18.616000  DEG_C   \n",
       "\n",
       "                       resultTime  \n",
       "4354    2014-01-01 00:00:00+00:00  \n",
       "4355    2014-01-01 00:30:00+00:00  \n",
       "4356    2014-01-01 01:00:00+00:00  \n",
       "4357    2014-01-01 01:30:00+00:00  \n",
       "4358    2014-01-01 02:00:00+00:00  \n",
       "...                           ...  \n",
       "8041986 2014-12-31 22:45:00+00:00  \n",
       "8041987 2014-12-31 23:00:00+00:00  \n",
       "8041988 2014-12-31 23:15:00+00:00  \n",
       "8041989 2014-12-31 23:30:00+00:00  \n",
       "8041990 2014-12-31 23:45:00+00:00  \n",
       "\n",
       "[4870994 rows x 9 columns]"
      ]
     },
     "execution_count": 71,
     "metadata": {},
     "output_type": "execute_result"
    }
   ],
   "source": [
    "df[df.madeBySensor.str.startswith('Onset') \n",
    "   & (df.observedProperty=='Air_temperature')\n",
    "   & (df.resultTime>=pd.Timestamp('2014-01-01T00:00:00Z'))\n",
    "   & (df.resultTime<pd.Timestamp('2015-01-01T00:00:00Z'))\n",
    "  ]"
   ]
  },
  {
   "cell_type": "markdown",
   "id": "1eecba64",
   "metadata": {},
   "source": [
    "### find air temperatures measured by Hobo sensors in 2014 in Building01"
   ]
  },
  {
   "cell_type": "code",
   "execution_count": 74,
   "id": "ff269190",
   "metadata": {},
   "outputs": [
    {
     "data": {
      "text/plain": [
       "array(['Space1', 'Space2', 'Space3', 'Space4', 'Space5', 'Space6',\n",
       "       'Space7', 'Space8', 'Space9', 'Space10', 'Space11', 'Space12',\n",
       "       'Space13', 'Space14', 'Space15', 'Space16', 'Space17', 'Space18',\n",
       "       'Space325', 'Space346'], dtype=object)"
      ]
     },
     "execution_count": 74,
     "metadata": {},
     "output_type": "execute_result"
    }
   ],
   "source": [
    "df_survey=pd.read_csv('observation_survey_data.csv')\n",
    "building01_space_ids=\\\n",
    "    df_survey[(df_survey.observedProperty=='hasBuilding') & (df_survey.hasResult=='Building01')].hasFeatureOfInterest.values\n",
    "building01_space_ids"
   ]
  },
  {
   "cell_type": "code",
   "execution_count": 78,
   "id": "eb9847ff",
   "metadata": {},
   "outputs": [
    {
     "data": {
      "text/html": [
       "<div>\n",
       "<style scoped>\n",
       "    .dataframe tbody tr th:only-of-type {\n",
       "        vertical-align: middle;\n",
       "    }\n",
       "\n",
       "    .dataframe tbody tr th {\n",
       "        vertical-align: top;\n",
       "    }\n",
       "\n",
       "    .dataframe thead th {\n",
       "        text-align: right;\n",
       "    }\n",
       "</style>\n",
       "<table border=\"1\" class=\"dataframe\">\n",
       "  <thead>\n",
       "    <tr style=\"text-align: right;\">\n",
       "      <th></th>\n",
       "      <th>id</th>\n",
       "      <th>type</th>\n",
       "      <th>madeBySensor</th>\n",
       "      <th>usedProcedure</th>\n",
       "      <th>hasFeatureOfInterest</th>\n",
       "      <th>observedProperty</th>\n",
       "      <th>value</th>\n",
       "      <th>unit</th>\n",
       "      <th>resultTime</th>\n",
       "    </tr>\n",
       "  </thead>\n",
       "  <tbody>\n",
       "    <tr>\n",
       "      <th>4354</th>\n",
       "      <td>Observation4355</td>\n",
       "      <td>Observation</td>\n",
       "      <td>Onset_Hobo_U12_Sensor2</td>\n",
       "      <td>Procedure2</td>\n",
       "      <td>Space13</td>\n",
       "      <td>Air_temperature</td>\n",
       "      <td>17.677222</td>\n",
       "      <td>DEG_C</td>\n",
       "      <td>2014-01-01 00:00:00+00:00</td>\n",
       "    </tr>\n",
       "    <tr>\n",
       "      <th>4355</th>\n",
       "      <td>Observation4356</td>\n",
       "      <td>Observation</td>\n",
       "      <td>Onset_Hobo_U12_Sensor2</td>\n",
       "      <td>Procedure2</td>\n",
       "      <td>Space13</td>\n",
       "      <td>Air_temperature</td>\n",
       "      <td>17.937778</td>\n",
       "      <td>DEG_C</td>\n",
       "      <td>2014-01-01 00:30:00+00:00</td>\n",
       "    </tr>\n",
       "    <tr>\n",
       "      <th>4356</th>\n",
       "      <td>Observation4357</td>\n",
       "      <td>Observation</td>\n",
       "      <td>Onset_Hobo_U12_Sensor2</td>\n",
       "      <td>Procedure2</td>\n",
       "      <td>Space13</td>\n",
       "      <td>Air_temperature</td>\n",
       "      <td>18.247222</td>\n",
       "      <td>DEG_C</td>\n",
       "      <td>2014-01-01 01:00:00+00:00</td>\n",
       "    </tr>\n",
       "    <tr>\n",
       "      <th>4357</th>\n",
       "      <td>Observation4358</td>\n",
       "      <td>Observation</td>\n",
       "      <td>Onset_Hobo_U12_Sensor2</td>\n",
       "      <td>Procedure2</td>\n",
       "      <td>Space13</td>\n",
       "      <td>Air_temperature</td>\n",
       "      <td>17.486111</td>\n",
       "      <td>DEG_C</td>\n",
       "      <td>2014-01-01 01:30:00+00:00</td>\n",
       "    </tr>\n",
       "    <tr>\n",
       "      <th>4358</th>\n",
       "      <td>Observation4359</td>\n",
       "      <td>Observation</td>\n",
       "      <td>Onset_Hobo_U12_Sensor2</td>\n",
       "      <td>Procedure2</td>\n",
       "      <td>Space13</td>\n",
       "      <td>Air_temperature</td>\n",
       "      <td>17.011111</td>\n",
       "      <td>DEG_C</td>\n",
       "      <td>2014-01-01 02:00:00+00:00</td>\n",
       "    </tr>\n",
       "    <tr>\n",
       "      <th>...</th>\n",
       "      <td>...</td>\n",
       "      <td>...</td>\n",
       "      <td>...</td>\n",
       "      <td>...</td>\n",
       "      <td>...</td>\n",
       "      <td>...</td>\n",
       "      <td>...</td>\n",
       "      <td>...</td>\n",
       "      <td>...</td>\n",
       "    </tr>\n",
       "    <tr>\n",
       "      <th>586115</th>\n",
       "      <td>Observation586116</td>\n",
       "      <td>Observation</td>\n",
       "      <td>Onset_Hobo_pendant_Sensor43</td>\n",
       "      <td>Procedure43</td>\n",
       "      <td>Space1</td>\n",
       "      <td>Air_temperature</td>\n",
       "      <td>16.618000</td>\n",
       "      <td>DEG_C</td>\n",
       "      <td>2014-12-31 22:45:00+00:00</td>\n",
       "    </tr>\n",
       "    <tr>\n",
       "      <th>586116</th>\n",
       "      <td>Observation586117</td>\n",
       "      <td>Observation</td>\n",
       "      <td>Onset_Hobo_pendant_Sensor43</td>\n",
       "      <td>Procedure43</td>\n",
       "      <td>Space1</td>\n",
       "      <td>Air_temperature</td>\n",
       "      <td>16.713000</td>\n",
       "      <td>DEG_C</td>\n",
       "      <td>2014-12-31 23:00:00+00:00</td>\n",
       "    </tr>\n",
       "    <tr>\n",
       "      <th>586117</th>\n",
       "      <td>Observation586118</td>\n",
       "      <td>Observation</td>\n",
       "      <td>Onset_Hobo_pendant_Sensor43</td>\n",
       "      <td>Procedure43</td>\n",
       "      <td>Space1</td>\n",
       "      <td>Air_temperature</td>\n",
       "      <td>16.713000</td>\n",
       "      <td>DEG_C</td>\n",
       "      <td>2014-12-31 23:15:00+00:00</td>\n",
       "    </tr>\n",
       "    <tr>\n",
       "      <th>586118</th>\n",
       "      <td>Observation586119</td>\n",
       "      <td>Observation</td>\n",
       "      <td>Onset_Hobo_pendant_Sensor43</td>\n",
       "      <td>Procedure43</td>\n",
       "      <td>Space1</td>\n",
       "      <td>Air_temperature</td>\n",
       "      <td>16.713000</td>\n",
       "      <td>DEG_C</td>\n",
       "      <td>2014-12-31 23:30:00+00:00</td>\n",
       "    </tr>\n",
       "    <tr>\n",
       "      <th>586119</th>\n",
       "      <td>Observation586120</td>\n",
       "      <td>Observation</td>\n",
       "      <td>Onset_Hobo_pendant_Sensor43</td>\n",
       "      <td>Procedure43</td>\n",
       "      <td>Space1</td>\n",
       "      <td>Air_temperature</td>\n",
       "      <td>16.713000</td>\n",
       "      <td>DEG_C</td>\n",
       "      <td>2014-12-31 23:45:00+00:00</td>\n",
       "    </tr>\n",
       "  </tbody>\n",
       "</table>\n",
       "<p>315360 rows × 9 columns</p>\n",
       "</div>"
      ],
      "text/plain": [
       "                       id         type                 madeBySensor  \\\n",
       "4354      Observation4355  Observation       Onset_Hobo_U12_Sensor2   \n",
       "4355      Observation4356  Observation       Onset_Hobo_U12_Sensor2   \n",
       "4356      Observation4357  Observation       Onset_Hobo_U12_Sensor2   \n",
       "4357      Observation4358  Observation       Onset_Hobo_U12_Sensor2   \n",
       "4358      Observation4359  Observation       Onset_Hobo_U12_Sensor2   \n",
       "...                   ...          ...                          ...   \n",
       "586115  Observation586116  Observation  Onset_Hobo_pendant_Sensor43   \n",
       "586116  Observation586117  Observation  Onset_Hobo_pendant_Sensor43   \n",
       "586117  Observation586118  Observation  Onset_Hobo_pendant_Sensor43   \n",
       "586118  Observation586119  Observation  Onset_Hobo_pendant_Sensor43   \n",
       "586119  Observation586120  Observation  Onset_Hobo_pendant_Sensor43   \n",
       "\n",
       "       usedProcedure hasFeatureOfInterest observedProperty      value   unit  \\\n",
       "4354      Procedure2              Space13  Air_temperature  17.677222  DEG_C   \n",
       "4355      Procedure2              Space13  Air_temperature  17.937778  DEG_C   \n",
       "4356      Procedure2              Space13  Air_temperature  18.247222  DEG_C   \n",
       "4357      Procedure2              Space13  Air_temperature  17.486111  DEG_C   \n",
       "4358      Procedure2              Space13  Air_temperature  17.011111  DEG_C   \n",
       "...              ...                  ...              ...        ...    ...   \n",
       "586115   Procedure43               Space1  Air_temperature  16.618000  DEG_C   \n",
       "586116   Procedure43               Space1  Air_temperature  16.713000  DEG_C   \n",
       "586117   Procedure43               Space1  Air_temperature  16.713000  DEG_C   \n",
       "586118   Procedure43               Space1  Air_temperature  16.713000  DEG_C   \n",
       "586119   Procedure43               Space1  Air_temperature  16.713000  DEG_C   \n",
       "\n",
       "                      resultTime  \n",
       "4354   2014-01-01 00:00:00+00:00  \n",
       "4355   2014-01-01 00:30:00+00:00  \n",
       "4356   2014-01-01 01:00:00+00:00  \n",
       "4357   2014-01-01 01:30:00+00:00  \n",
       "4358   2014-01-01 02:00:00+00:00  \n",
       "...                          ...  \n",
       "586115 2014-12-31 22:45:00+00:00  \n",
       "586116 2014-12-31 23:00:00+00:00  \n",
       "586117 2014-12-31 23:15:00+00:00  \n",
       "586118 2014-12-31 23:30:00+00:00  \n",
       "586119 2014-12-31 23:45:00+00:00  \n",
       "\n",
       "[315360 rows x 9 columns]"
      ]
     },
     "execution_count": 78,
     "metadata": {},
     "output_type": "execute_result"
    }
   ],
   "source": [
    "df_result=df[df.madeBySensor.str.startswith('Onset') \n",
    "   & (df.observedProperty=='Air_temperature')\n",
    "   & (df.resultTime>=pd.Timestamp('2014-01-01T00:00:00Z'))\n",
    "   & (df.resultTime<pd.Timestamp('2015-01-01T00:00:00Z'))\n",
    "   & (df.hasFeatureOfInterest.isin(building01_space_ids))\n",
    "  ]\n",
    "df_result"
   ]
  },
  {
   "cell_type": "code",
   "execution_count": 85,
   "id": "bde833ba",
   "metadata": {},
   "outputs": [
    {
     "data": {
      "text/plain": [
       "<matplotlib.legend.Legend at 0x278a7e60100>"
      ]
     },
     "execution_count": 85,
     "metadata": {},
     "output_type": "execute_result"
    },
    {
     "data": {
      "image/png": "[encoded data removed]",
      "text/plain": [
       "<Figure size 1152x576 with 1 Axes>"
      ]
     },
     "metadata": {
      "needs_background": "light"
     },
     "output_type": "display_data"
    }
   ],
   "source": [
    "import matplotlib.pyplot as plt\n",
    "fig, ax = plt.subplots(figsize=(16,8))\n",
    "for space_id in df_result.hasFeatureOfInterest.unique():\n",
    "    x=df_result[df_result.hasFeatureOfInterest==space_id]\n",
    "    label=(space_id+'_'\n",
    "           + df_survey[(df_survey.observedProperty=='roomType') & (df_survey.hasFeatureOfInterest==space_id)].hasResult.values[0])\n",
    "    ax.plot(x.resultTime,x.value, label=label)\n",
    "ax.legend()"
   ]
  },
  {
   "cell_type": "code",
   "execution_count": null,
   "id": "273d25b3",
   "metadata": {},
   "outputs": [],
   "source": []
  },
  {
   "cell_type": "code",
   "execution_count": null,
   "id": "4b7608c0",
   "metadata": {},
   "outputs": [],
   "source": []
  }
 ],
 "metadata": {
  "kernelspec": {
   "display_name": "Python 3 (ipykernel)",
   "language": "python",
   "name": "python3"
  },
  "language_info": {
   "codemirror_mode": {
    "name": "ipython",
    "version": 3
   },
   "file_extension": ".py",
   "mimetype": "text/x-python",
   "name": "python",
   "nbconvert_exporter": "python",
   "pygments_lexer": "ipython3",
   "version": "3.9.7"
  }
 },
 "nbformat": 4,
 "nbformat_minor": 5
}
