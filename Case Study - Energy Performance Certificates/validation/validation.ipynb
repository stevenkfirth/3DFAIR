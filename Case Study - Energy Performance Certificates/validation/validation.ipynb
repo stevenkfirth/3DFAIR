{
 "cells": [
  {
   "cell_type": "markdown",
   "id": "87e73171",
   "metadata": {},
   "source": [
    "# validation\n",
    "\n",
    "This notebook checks the 'epc_domestic_certificates-schema-metadata.json' for any errors.\n",
    "\n",
    "The 'epc_domestic_certificates-schema-metadata.json' file is a CSVW metadata file for EPC domestic certificate CSV files."
   ]
  },
  {
   "cell_type": "markdown",
   "id": "d766f418",
   "metadata": {},
   "source": [
    "## Import packages\n",
    "\n",
    "This includes using the [`csvw_functions`](https://github.com/stevenkfirth/csvw_functions) package for working with CSVW files."
   ]
  },
  {
   "cell_type": "code",
   "execution_count": 1,
   "id": "ccf9d888",
   "metadata": {},
   "outputs": [],
   "source": [
    "import csvw_functions\n",
    "import os"
   ]
  },
  {
   "cell_type": "markdown",
   "id": "1fd537a1",
   "metadata": {},
   "source": [
    "## Get filepath of metadata file"
   ]
  },
  {
   "cell_type": "markdown",
   "id": "253b724b",
   "metadata": {},
   "source": [
    "Gets the filepath of the CSVW metadata schema file."
   ]
  },
  {
   "cell_type": "code",
   "execution_count": 2,
   "id": "30849023",
   "metadata": {},
   "outputs": [
    {
     "data": {
      "text/plain": [
       "'..\\\\epc_domestic_certificates-schema-metadata.json'"
      ]
     },
     "execution_count": 2,
     "metadata": {},
     "output_type": "execute_result"
    }
   ],
   "source": [
    "metadata_fp=os.path.join(\n",
    "    os.pardir,\n",
    "    'epc_domestic_certificates-schema-metadata.json'\n",
    ")\n",
    "metadata_fp"
   ]
  },
  {
   "cell_type": "markdown",
   "id": "19f0193b",
   "metadata": {},
   "source": [
    "## Run validation"
   ]
  },
  {
   "cell_type": "markdown",
   "id": "805b0ef4",
   "metadata": {},
   "source": [
    "Carries out the validation of the schema metadata file using the functions in the `csvw_functions` package."
   ]
  },
  {
   "cell_type": "code",
   "execution_count": 3,
   "id": "0e627178",
   "metadata": {},
   "outputs": [
    {
     "name": "stderr",
     "output_type": "stream",
     "text": [
      "c:\\users\\cvskf\\onedrive - loughborough university\\_git\\stevenkfirth\\csvw_functions\\csvw_functions\\csvw_functions.py:10937: UserWarning: Property \"$schema\" is a common property but has name which is not a prefixed name and is not an absolute URL. Property is removed.\n",
      "  warnings.warn(message)\n"
     ]
    }
   ],
   "source": [
    "csvw_functions.validate_schema_metadata(\n",
    "    metadata_fp\n",
    ")"
   ]
  },
  {
   "cell_type": "markdown",
   "id": "73d4aa59",
   "metadata": {},
   "source": [
    "The validation works fine and there are no errors.\n",
    "\n",
    "The warning above refers to an additional property which is used when constructing the CSVW schema metadata file, but which is not part of the CSVW metadata specification and is removed upon use."
   ]
  }
 ],
 "metadata": {
  "kernelspec": {
   "display_name": "Python 3 (ipykernel)",
   "language": "python",
   "name": "python3"
  },
  "language_info": {
   "codemirror_mode": {
    "name": "ipython",
    "version": 3
   },
   "file_extension": ".py",
   "mimetype": "text/x-python",
   "name": "python",
   "nbconvert_exporter": "python",
   "pygments_lexer": "ipython3",
   "version": "3.9.7"
  }
 },
 "nbformat": 4,
 "nbformat_minor": 5
}
